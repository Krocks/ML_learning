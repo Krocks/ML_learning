{
 "cells": [
  {
   "cell_type": "code",
   "execution_count": 3,
   "metadata": {
    "collapsed": true
   },
   "outputs": [],
   "source": [
    "import pandas\n",
    "\n",
    "data = pandas.read_csv('C:\\ML\\projects\\ML_learning\\dota\\\\features.csv')  # default folder is projects pwd shows it"
   ]
  },
  {
   "cell_type": "code",
   "execution_count": 6,
   "metadata": {},
   "outputs": [
    {
     "data": {
      "text/plain": [
       "first_blood_time               19553\nfirst_blood_team               19553\nfirst_blood_player1            19553\nfirst_blood_player2            43987\nradiant_bottle_time            15691\nradiant_courier_time             692\nradiant_flying_courier_time    27479\nradiant_first_ward_time         1836\ndire_bottle_time               16143\ndire_courier_time                676\ndire_flying_courier_time       26098\ndire_first_ward_time            1826\ndtype: int64"
      ]
     },
     "execution_count": 6,
     "metadata": {},
     "output_type": "execute_result"
    }
   ],
   "source": [
    "data.isnull().sum()[data.isnull().sum() != 0] "
   ]
  },
  {
   "cell_type": "code",
   "execution_count": 10,
   "metadata": {},
   "outputs": [
    {
     "data": {
      "text/plain": [
       "0        2874\n1        2463\n2        2130\n3        1459\n4        2449\n5        1453\n6        1968\n7        4079\n8        3071\n9        2384\n10        912\n11       1001\n12       3270\n13       1584\n14       1957\n15       1994\n16       2144\n17       2914\n18       2697\n19       2790\n20       2036\n21       1924\n22       1618\n23       2129\n24       1922\n25       2069\n26       2706\n27       3171\n28       3113\n29       1399\n         ... \n97200    2954\n97201    1299\n97202    4515\n97203    2129\n97204    2254\n97205    2270\n97206    2134\n97207    2647\n97208    1101\n97209    2368\n97210    3099\n97211    1876\n97212    1981\n97213    2052\n97214    2103\n97215    2971\n97216    3047\n97217    1544\n97218    3366\n97219    2448\n97220    1751\n97221    2063\n97222    3095\n97223    1598\n97224    4298\n97225    2032\n97226    1734\n97227    2906\n97228     951\n97229    2086\nName: duration, Length: 97230, dtype: int64"
      ]
     },
     "execution_count": 10,
     "metadata": {},
     "output_type": "execute_result"
    }
   ],
   "source": [
    "data['duration']"
   ]
  },
  {
   "cell_type": "code",
   "execution_count": null,
   "metadata": {},
   "outputs": [],
   "source": []
  }
 ],
 "metadata": {
  "kernelspec": {
   "display_name": "Python 2",
   "language": "python",
   "name": "python2"
  },
  "language_info": {
   "codemirror_mode": {
    "name": "ipython",
    "version": 2
   },
   "file_extension": ".py",
   "mimetype": "text/x-python",
   "name": "python",
   "nbconvert_exporter": "python",
   "pygments_lexer": "ipython2",
   "version": "2.7.6"
  }
 },
 "nbformat": 4,
 "nbformat_minor": 0
}
