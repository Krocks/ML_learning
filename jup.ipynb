{
 "cells": [
  {
   "cell_type": "code",
   "execution_count": 1,
   "metadata": {
    "collapsed": true
   },
   "outputs": [
    {
     "name": "stdout",
     "output_type": "stream",
     "text": [
      "[[1.         0.         0.49700901 ... 0.         0.         0.        ]\n [1.         0.36666667 0.60629148 ... 0.         1.         0.        ]\n [1.         0.0333     0.48012427 ... 0.         0.         0.        ]\n ...\n [0.         0.2        0.52056377 ... 0.         0.         0.        ]\n [1.         0.1        0.7656462  ... 0.         0.         0.        ]\n [0.         0.13333333 0.53395198 ... 0.         0.         0.        ]]\n"
     ]
    }
   ],
   "source": [
    "import pandas\n",
    "\n",
    "data = pandas.read_csv('gbm-data.csv').values\n",
    "print(data)"
   ]
  },
  {
   "cell_type": "code",
   "execution_count": null,
   "metadata": {},
   "outputs": [],
   "source": []
  }
 ],
 "metadata": {
  "kernelspec": {
   "display_name": "Python 2",
   "language": "python",
   "name": "python2"
  },
  "language_info": {
   "codemirror_mode": {
    "name": "ipython",
    "version": 2
   },
   "file_extension": ".py",
   "mimetype": "text/x-python",
   "name": "python",
   "nbconvert_exporter": "python",
   "pygments_lexer": "ipython2",
   "version": "2.7.6"
  }
 },
 "nbformat": 4,
 "nbformat_minor": 0
}
